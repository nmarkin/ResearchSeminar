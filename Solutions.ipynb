{
  "nbformat": 4,
  "nbformat_minor": 0,
  "metadata": {
    "colab": {
      "provenance": []
    },
    "kernelspec": {
      "name": "python3",
      "display_name": "Python 3"
    },
    "language_info": {
      "name": "python"
    }
  },
  "cells": [
    {
      "cell_type": "code",
      "source": [
        "x = int(input())\n",
        "y = int(input())\n",
        "#x,y = 10, 20 means x = 10 y = 20\n",
        "while y != 0:\n",
        "  x, y = y, x % y\n",
        "print(x)"
      ],
      "metadata": {
        "colab": {
          "base_uri": "https://localhost:8080/"
        },
        "id": "ODQFQ1jQ3O3v",
        "outputId": "85d095e9-0730-4c4b-b31d-57188450e09b"
      },
      "execution_count": null,
      "outputs": [
        {
          "output_type": "stream",
          "name": "stdout",
          "text": [
            "11\n",
            "2\n",
            "1\n"
          ]
        }
      ]
    },
    {
      "cell_type": "code",
      "source": [
        "base = 8 # = int(input())\n",
        "now = 0\n",
        "while now < base:\n",
        "    i = 1\n",
        "    j = 2\n",
        "    now += 1\n",
        "    while i<=5:\n",
        "        shift = ' '*(3*(base-now) + 1)\n",
        "        seq =  \" \"*j+\"*\"*i+\" \"*(j+1)\n",
        "        row = ''\n",
        "        n = 0\n",
        "        while n <= now-1:\n",
        "            row += seq\n",
        "            n += 1\n",
        "        print(shift + row)\n",
        "        i = i+2\n",
        "        j = j-1\n",
        "\n"
      ],
      "metadata": {
        "colab": {
          "base_uri": "https://localhost:8080/"
        },
        "id": "S_le9V9zwj4I",
        "outputId": "feba3a5d-b651-4b8c-ba61-01ba81af2d9b"
      },
      "execution_count": null,
      "outputs": [
        {
          "output_type": "stream",
          "name": "stdout",
          "text": [
            "                        *   \n",
            "                       ***  \n",
            "                      ***** \n",
            "                     *     *   \n",
            "                    ***   ***  \n",
            "                   ***** ***** \n",
            "                  *     *     *   \n",
            "                 ***   ***   ***  \n",
            "                ***** ***** ***** \n",
            "               *     *     *     *   \n",
            "              ***   ***   ***   ***  \n",
            "             ***** ***** ***** ***** \n",
            "            *     *     *     *     *   \n",
            "           ***   ***   ***   ***   ***  \n",
            "          ***** ***** ***** ***** ***** \n",
            "         *     *     *     *     *     *   \n",
            "        ***   ***   ***   ***   ***   ***  \n",
            "       ***** ***** ***** ***** ***** ***** \n",
            "      *     *     *     *     *     *     *   \n",
            "     ***   ***   ***   ***   ***   ***   ***  \n",
            "    ***** ***** ***** ***** ***** ***** ***** \n",
            "   *     *     *     *     *     *     *     *   \n",
            "  ***   ***   ***   ***   ***   ***   ***   ***  \n",
            " ***** ***** ***** ***** ***** ***** ***** ***** \n"
          ]
        }
      ]
    }
  ]
}